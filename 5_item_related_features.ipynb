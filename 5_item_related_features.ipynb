{
 "cells": [
  {
   "cell_type": "code",
   "execution_count": null,
   "id": "642f4e7f",
   "metadata": {},
   "outputs": [],
   "source": [
    "import pandas as pd\n",
    "\n",
    "# Load the dataset with sales-related features from the previous steps\n",
    "merged_data_path = r'..\\utils\\merged_data_with_sales_features.csv'\n",
    "merged_data = pd.read_csv(merged_data_path)\n",
    "\n",
    "# Load the item_info data\n",
    "item_info_path = r'C:\\Users\\User\\Salse_Forecasting_ML\\dataset\\item_info.csv'\n",
    "item_info_df = pd.read_csv(item_info_path)\n",
    "\n",
    "# Merge item-related features with the dataset based on the item_code\n",
    "merged_data = pd.merge(merged_data, item_info_df, on='item_code', how='left')\n",
    "\n",
    "# Display the dataset with item-related features (you can remove this in the final script)\n",
    "print(merged_data.head())\n",
    "\n",
    "# Save the dataset with item-related features to a new CSV file\n",
    "merged_data.to_csv(r'..\\utils\\merged_data_with_item_features.csv', index=False)\n"
   ]
  }
 ],
 "metadata": {
  "kernelspec": {
   "display_name": "Python 3 (ipykernel)",
   "language": "python",
   "name": "python3"
  },
  "language_info": {
   "codemirror_mode": {
    "name": "ipython",
    "version": 3
   },
   "file_extension": ".py",
   "mimetype": "text/x-python",
   "name": "python",
   "nbconvert_exporter": "python",
   "pygments_lexer": "ipython3",
   "version": "3.9.13"
  }
 },
 "nbformat": 4,
 "nbformat_minor": 5
}
