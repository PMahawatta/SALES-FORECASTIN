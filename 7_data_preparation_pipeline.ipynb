{
 "cells": [
  {
   "cell_type": "code",
   "execution_count": null,
   "id": "2c7ae4e0",
   "metadata": {},
   "outputs": [],
   "source": [
    "import pandas as pd\n",
    "\n",
    "# Step 1: Data Loading and Merging\n",
    "item_info_path = r'..\\dataset\\item_info.csv'\n",
    "transactions_info_path = r'..\\dataset\\transactions_info.csv'\n",
    "\n",
    "item_info = pd.read_csv(item_info_path)\n",
    "transactions_info = pd.read_csv(transactions_info_path)\n",
    "\n",
    "# Merge data based on 'item_code'\n",
    "merged_data = pd.merge(transactions_info, item_info, on='item_code', how='inner')\n",
    "\n",
    "# Step 2: Create Primary Keys (Item | Date | Hour)\n",
    "merged_data['invoice_time'] = pd.to_datetime(merged_data['invoice_time'])\n",
    "merged_data['hour'] = merged_data['invoice_time'].dt.hour\n",
    "\n",
    "# Step 3: Create Target Variable\n",
    "merged_data['hourly_sales'] = merged_data.groupby(['item_code', 'hour'])['item_qty'].transform('sum')\n",
    "\n",
    "# Step 4: Sales Related Features\n",
    "sales_related_features = merged_data.groupby(['item_code', 'hour'])['hourly_sales'].transform('mean')\n",
    "merged_data['avg_hourly_sales'] = sales_related_features\n",
    "\n",
    "# Step 5: Item Related Features (You can add more features based on item_info)\n",
    "merged_data['category'] = merged_data['item_category']\n",
    "\n",
    "# Step 6: Time Related Features\n",
    "merged_data['hour_of_day'] = merged_data['hour']\n",
    "merged_data['day_of_week'] = merged_data['invoice_time'].dt.dayofweek\n",
    "merged_data['month'] = merged_data['invoice_time'].dt.month\n",
    "\n",
    "# Save the master table with synthetic features\n",
    "master_table_path = r'..\\src\\utils\\master_table.csv'\n",
    "merged_data.to_csv(master_table_path, index=False)\n"
   ]
  }
 ],
 "metadata": {
  "kernelspec": {
   "display_name": "Python 3 (ipykernel)",
   "language": "python",
   "name": "python3"
  },
  "language_info": {
   "codemirror_mode": {
    "name": "ipython",
    "version": 3
   },
   "file_extension": ".py",
   "mimetype": "text/x-python",
   "name": "python",
   "nbconvert_exporter": "python",
   "pygments_lexer": "ipython3",
   "version": "3.9.7"
  }
 },
 "nbformat": 4,
 "nbformat_minor": 5
}
