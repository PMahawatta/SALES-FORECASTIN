{
 "cells": [
  {
   "cell_type": "code",
   "execution_count": null,
   "id": "56fc2ee6",
   "metadata": {},
   "outputs": [],
   "source": [
    "import pandas as pd\n",
    "\n",
    "# Assuming 'item_code' is the unique identifier and 'item_qty' is the sales quantity column\n",
    "# Replace these with the actual column names from your dataset\n",
    "data = pd.read_csv(r'..\\src\\utils\\master_table.csv')  # Load your sales data\n",
    "\n",
    "# Group by 'item_code' and sum the sales quantities\n",
    "item_sales = data.groupby('item_code')['item_qty'].sum()\n",
    "\n",
    "# Get the top 25 items based on total sales quantity\n",
    "top_25_items = item_sales.nlargest(25)\n",
    "\n",
    "# Display the top 25 items\n",
    "print(\"Top 25 Items Based on Sales Quantity:\")\n",
    "print(top_25_items)\n"
   ]
  }
 ],
 "metadata": {
  "kernelspec": {
   "display_name": "Python 3 (ipykernel)",
   "language": "python",
   "name": "python3"
  },
  "language_info": {
   "codemirror_mode": {
    "name": "ipython",
    "version": 3
   },
   "file_extension": ".py",
   "mimetype": "text/x-python",
   "name": "python",
   "nbconvert_exporter": "python",
   "pygments_lexer": "ipython3",
   "version": "3.9.7"
  }
 },
 "nbformat": 4,
 "nbformat_minor": 5
}
