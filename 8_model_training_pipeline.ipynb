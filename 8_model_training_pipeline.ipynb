{
 "cells": [
  {
   "cell_type": "code",
   "execution_count": null,
   "id": "b327dce3",
   "metadata": {},
   "outputs": [],
   "source": [
    "import pandas as pd\n",
    "from sklearn.model_selection import train_test_split\n",
    "from sklearn.ensemble import RandomForestRegressor\n",
    "from sklearn.metrics import mean_absolute_error\n",
    "import joblib\n",
    "\n",
    "# Load the preprocessed data for training\n",
    "preprocessed_data_path = r'..\\src\\utils\\preprocessed_data.csv'\n",
    "data = pd.read_csv(preprocessed_data_path)\n",
    "\n",
    "# Define features and target variable\n",
    "target = 'hourly_sales'\n",
    "all_features = ['item_code', 'hour', 'avg_hourly_sales', 'category', 'hour_of_day', 'day_of_week', 'month']\n",
    "\n",
    "# Check if the specified features exist in the data\n",
    "features = [feature for feature in all_features if feature in data.columns]\n",
    "\n",
    "# Ensure that you have enough features to proceed\n",
    "if len(features) < 2:\n",
    "    raise ValueError(\"Insufficient features for training. Please check your data and feature selection.\")\n",
    "\n",
    "# Split the data into training and testing sets\n",
    "X = data[features]\n",
    "y = data[target]\n",
    "X_train, X_test, y_train, y_test = train_test_split(X, y, test_size=0.2, random_state=42)\n",
    "\n",
    "# Create a Random Forest model\n",
    "model = RandomForestRegressor(n_estimators=100, random_state=42)\n",
    "model.fit(X_train, y_train)\n",
    "\n",
    "# Make predictions on the test set\n",
    "y_pred = model.predict(X_test)\n",
    "\n",
    "# Evaluate the model\n",
    "mae = mean_absolute_error(y_test, y_pred)\n",
    "print(f'Mean Absolute Error: {mae}')\n",
    "\n",
    "# Save the trained model to a file\n",
    "model_path = r'..\\src\\models\\sales_forecasting_model.pkl'\n",
    "joblib.dump(model, model_path)\n"
   ]
  }
 ],
 "metadata": {
  "kernelspec": {
   "display_name": "Python 3 (ipykernel)",
   "language": "python",
   "name": "python3"
  },
  "language_info": {
   "codemirror_mode": {
    "name": "ipython",
    "version": 3
   },
   "file_extension": ".py",
   "mimetype": "text/x-python",
   "name": "python",
   "nbconvert_exporter": "python",
   "pygments_lexer": "ipython3",
   "version": "3.9.7"
  }
 },
 "nbformat": 4,
 "nbformat_minor": 5
}
