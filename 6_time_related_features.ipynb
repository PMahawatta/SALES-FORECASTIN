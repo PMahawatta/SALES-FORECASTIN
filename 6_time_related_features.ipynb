{
 "cells": [
  {
   "cell_type": "code",
   "execution_count": null,
   "id": "f288b29d",
   "metadata": {},
   "outputs": [],
   "source": [
    "import pandas as pd\n",
    "\n",
    "# Load the dataset with item-related features from the previous steps\n",
    "merged_data_path = r'..\\utils\\merged_data_with_item_features.csv'\n",
    "merged_data = pd.read_csv(merged_data_path)\n",
    "\n",
    "# Convert the 'invoice_time' column to a datetime object\n",
    "merged_data['invoice_time'] = pd.to_datetime(merged_data['invoice_time'])\n",
    "\n",
    "# Extract time-related features\n",
    "merged_data['hour_of_day'] = merged_data['invoice_time'].dt.hour\n",
    "merged_data['day_of_week'] = merged_data['invoice_time'].dt.dayofweek\n",
    "merged_data['month'] = merged_data['invoice_time'].dt.month\n",
    "\n",
    "# Display the dataset with time-related features (you can remove this in the final script)\n",
    "print(merged_data.head())\n",
    "\n",
    "# Save the dataset with time-related features to a new CSV file\n",
    "merged_data.to_csv(r'..\\utils\\merged_data_with_time_features.csv', index=False)\n"
   ]
  }
 ],
 "metadata": {
  "kernelspec": {
   "display_name": "Python 3 (ipykernel)",
   "language": "python",
   "name": "python3"
  },
  "language_info": {
   "codemirror_mode": {
    "name": "ipython",
    "version": 3
   },
   "file_extension": ".py",
   "mimetype": "text/x-python",
   "name": "python",
   "nbconvert_exporter": "python",
   "pygments_lexer": "ipython3",
   "version": "3.9.7"
  }
 },
 "nbformat": 4,
 "nbformat_minor": 5
}
