{
 "cells": [
  {
   "cell_type": "code",
   "execution_count": null,
   "id": "819ee4ee",
   "metadata": {},
   "outputs": [],
   "source": [
    "# get_conf.py\n",
    "\n",
    "# File paths\n",
    "item_info_path = r'C:\\Users\\User\\Salse_Forecasting_ML_project\\dataset\\item_info.csv'\n",
    "transactions_info_path = r'C:\\Users\\User\\Salse_Forecasting_ML_project\\dataset\\transactions_info.csv'\n",
    "\n",
    "# Model hyperparameters\n",
    "n_estimators = 100\n",
    "random_state = 42\n"
   ]
  }
 ],
 "metadata": {
  "kernelspec": {
   "display_name": "Python 3 (ipykernel)",
   "language": "python",
   "name": "python3"
  },
  "language_info": {
   "codemirror_mode": {
    "name": "ipython",
    "version": 3
   },
   "file_extension": ".py",
   "mimetype": "text/x-python",
   "name": "python",
   "nbconvert_exporter": "python",
   "pygments_lexer": "ipython3",
   "version": "3.9.7"
  }
 },
 "nbformat": 4,
 "nbformat_minor": 5
}
