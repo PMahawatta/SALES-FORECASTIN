{
 "cells": [
  {
   "cell_type": "code",
   "execution_count": null,
   "id": "6d2da9e8",
   "metadata": {},
   "outputs": [],
   "source": [
    "import pandas as pd\n",
    "from sklearn.metrics import mean_absolute_error\n",
    "import joblib\n",
    "\n",
    "# Load the preprocessed data for evaluation\n",
    "preprocessed_data_path = r'..\\utils\\preprocessed_data.csv'\n",
    "data = pd.read_csv(preprocessed_data_path)\n",
    "\n",
    "# Define features and target variable\n",
    "features = ['item_code', 'hour']  # Specify the relevant features\n",
    "target = 'hourly_sales'  # Adjust to your target variable\n",
    "\n",
    "# Load the trained model\n",
    "model_path = r'sales_forecasting_model.pkl'\n",
    "model = joblib.load(model_path)\n",
    "\n",
    "# Prepare the evaluation dataset\n",
    "X_eval = data[features]\n",
    "y_eval = data[target]\n",
    "\n",
    "# Make predictions using the trained model\n",
    "y_pred = model.predict(X_eval)\n",
    "\n",
    "# Evaluate the model using Mean Absolute Error (MAE)\n",
    "mae = mean_absolute_error(y_eval, y_pred)\n",
    "print(f'Mean Absolute Error on Evaluation Data: {mae}')\n"
   ]
  }
 ],
 "metadata": {
  "kernelspec": {
   "display_name": "Python 3 (ipykernel)",
   "language": "python",
   "name": "python3"
  },
  "language_info": {
   "codemirror_mode": {
    "name": "ipython",
    "version": 3
   },
   "file_extension": ".py",
   "mimetype": "text/x-python",
   "name": "python",
   "nbconvert_exporter": "python",
   "pygments_lexer": "ipython3",
   "version": "3.9.7"
  }
 },
 "nbformat": 4,
 "nbformat_minor": 5
}
