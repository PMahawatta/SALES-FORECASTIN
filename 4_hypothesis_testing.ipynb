{
 "cells": [
  {
   "cell_type": "code",
   "execution_count": 1,
   "id": "6841b55a",
   "metadata": {},
   "outputs": [
    {
     "name": "stdout",
     "output_type": "stream",
     "text": [
      "T-Statistic: nan\n",
      "P-Value: nan\n",
      "Fail to reject the null hypothesis: Sales of Category A and Category B are not significantly different.\n"
     ]
    }
   ],
   "source": [
    "import pandas as pd\n",
    "import scipy.stats as stats\n",
    "\n",
    "# Define the file paths\n",
    "item_info_path = r'..\\dataset\\item_info.csv'\n",
    "transactions_info_path = r'..\\dataset\\transactions_info.csv'\n",
    "\n",
    "# Load the data\n",
    "item_info_df = pd.read_csv(item_info_path)\n",
    "transactions_info_df = pd.read_csv(transactions_info_path)\n",
    "\n",
    "# Extract data for Category A and Category B\n",
    "category_a_item_qty = transactions_info_df[transactions_info_df['item_code'].isin(item_info_df[item_info_df['item_category'] == 'Category A']['item_code'])]['item_qty']\n",
    "category_b_item_qty = transactions_info_df[transactions_info_df['item_code'].isin(item_info_df[item_info_df['item_category'] == 'Category B']['item_code'])]['item_qty']\n",
    "\n",
    "# Perform a two-sample t-test\n",
    "t_stat, p_value = stats.ttest_ind(category_a_item_qty, category_b_item_qty, equal_var=False)\n",
    "\n",
    "# Print the results\n",
    "print(f'T-Statistic: {t_stat}')\n",
    "print(f'P-Value: {p_value}')\n",
    "\n",
    "# Determine the significance level (alpha)\n",
    "alpha = 0.05\n",
    "\n",
    "# Check the p-value against the significance level\n",
    "if p_value < alpha:\n",
    "    print(\"Reject the null hypothesis: Sales of Category A and Category B are significantly different.\")\n",
    "else:\n",
    "    print(\"Fail to reject the null hypothesis: Sales of Category A and Category B are not significantly different.\")\n"
   ]
  },
  {
   "cell_type": "code",
   "execution_count": null,
   "id": "7f5bc13c",
   "metadata": {},
   "outputs": [],
   "source": []
  }
 ],
 "metadata": {
  "kernelspec": {
   "display_name": "Python 3 (ipykernel)",
   "language": "python",
   "name": "python3"
  },
  "language_info": {
   "codemirror_mode": {
    "name": "ipython",
    "version": 3
   },
   "file_extension": ".py",
   "mimetype": "text/x-python",
   "name": "python",
   "nbconvert_exporter": "python",
   "pygments_lexer": "ipython3",
   "version": "3.9.7"
  }
 },
 "nbformat": 4,
 "nbformat_minor": 5
}
