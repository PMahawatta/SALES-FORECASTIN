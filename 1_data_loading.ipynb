{
 "cells": [
  {
   "cell_type": "code",
   "execution_count": 2,
   "id": "f8902952",
   "metadata": {},
   "outputs": [],
   "source": [
    "import pandas as pd\n",
    "\n",
    "# Define the file paths\n",
    "item_info_path = r'..\\dataset\\item_info.csv'\n",
    "transactions_info_path = r'..\\dataset\\transactions_info.csv'\n",
    "\n",
    "\n",
    "# Load the item_info and transactions_info data\n",
    "item_info_df = pd.read_csv(item_info_path)\n",
    "transactions_info_df = pd.read_csv(transactions_info_path)\n",
    "\n",
    "# Step 1: Handling Missing Values\n",
    "# In this example, we'll fill missing values in 'item_sub_segment' with 'Unknown'.\n",
    "item_info_df['item_sub_segment'].fillna('Unknown', inplace=True)\n",
    "\n",
    "# Step 2: Encoding Categorical Variables\n",
    "# Use one-hot encoding for categorical variables like 'item_category' and 'item_department'.\n",
    "item_info_df = pd.get_dummies(item_info_df, columns=['item_category', 'item_department'])\n",
    "\n",
    "# Step 3: Date and Time Feature Engineering\n",
    "# Convert 'invoice_time' to datetime, and extract relevant date and time features.\n",
    "transactions_info_df['invoice_time'] = pd.to_datetime(transactions_info_df['invoice_time'])\n",
    "transactions_info_df['invoice_date'] = transactions_info_df['invoice_time'].dt.date\n",
    "transactions_info_df['hour'] = transactions_info_df['invoice_time'].dt.hour\n",
    "\n",
    "# Step 4: Aggregating Sales Data\n",
    "# Aggregate sales data by item and hour for modeling.\n",
    "hourly_sales = transactions_info_df.groupby(['item_code', 'hour'])['item_qty'].sum().reset_index()\n",
    "hourly_sales.rename(columns={'item_qty': 'hourly_sales'}, inplace=True)\n",
    "\n",
    "# Step 5: Merging Data\n",
    "# Merge item_info and sales data based on 'item_code'.\n",
    "master_table = pd.merge(item_info_df, hourly_sales, on='item_code')\n",
    "\n",
    "# Save the preprocessed data to a new CSV file\n",
    "master_table.to_csv('preprocessed_data.csv', index=False)\n"
   ]
  },
  {
   "cell_type": "code",
   "execution_count": null,
   "id": "e45f41d4",
   "metadata": {},
   "outputs": [],
   "source": []
  }
 ],
 "metadata": {
  "kernelspec": {
   "display_name": "Python 3 (ipykernel)",
   "language": "python",
   "name": "python3"
  },
  "language_info": {
   "codemirror_mode": {
    "name": "ipython",
    "version": 3
   },
   "file_extension": ".py",
   "mimetype": "text/x-python",
   "name": "python",
   "nbconvert_exporter": "python",
   "pygments_lexer": "ipython3",
   "version": "3.9.7"
  }
 },
 "nbformat": 4,
 "nbformat_minor": 5
}
