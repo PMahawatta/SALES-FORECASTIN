{
 "cells": [
  {
   "cell_type": "code",
   "execution_count": 1,
   "id": "2d2f2254",
   "metadata": {},
   "outputs": [
    {
     "name": "stdout",
     "output_type": "stream",
     "text": [
      "   item_code invoice_num              invoice_time  item_qty item_sub_segment  \\\n",
      "0    1080988     4989509  2022-03-11T09:37:02.000Z       1.0          Packets   \n",
      "1    1080988     2125081  2022-03-11T18:56:29.000Z       1.0          Packets   \n",
      "2    1080988     9370252  2022-03-11T18:21:58.000Z       1.0          Packets   \n",
      "3    1080988     Z003000  2022-03-11T13:41:34.000Z       4.0          Packets   \n",
      "4    1080988     5830278  2022-03-11T19:11:50.000Z       1.0          Packets   \n",
      "\n",
      "  item_segment item_category item_sub_department item_department  \n",
      "0     Hen Eggs          Eggs                Eggs         Grocery  \n",
      "1     Hen Eggs          Eggs                Eggs         Grocery  \n",
      "2     Hen Eggs          Eggs                Eggs         Grocery  \n",
      "3     Hen Eggs          Eggs                Eggs         Grocery  \n",
      "4     Hen Eggs          Eggs                Eggs         Grocery  \n"
     ]
    }
   ],
   "source": [
    "import pandas as pd\n",
    "\n",
    "item_info_path = r'..\\..\\dataset\\item_info.csv'\n",
    "transactions_info_path = r'..\\..\\dataset\\transactions_info.csv'\n",
    "\n",
    "\n",
    "# Load item_info and transactions_info into Pandas DataFrames\n",
    "item_info_df = pd.read_csv(item_info_path)\n",
    "transactions_info_df = pd.read_csv(transactions_info_path)\n",
    "\n",
    "# Merge the data based on the common item_code\n",
    "merged_data = pd.merge(transactions_info_df, item_info_df, on='item_code', how='inner')\n",
    "\n",
    "# Display the merged data (you can remove this in the final script)\n",
    "print(merged_data.head())\n",
    "\n",
    "# Save the merged data to a new CSV file\n",
    "merged_data.to_csv(r'..\\utils\\merged_data.csv', index=False)\n"
   ]
  },
  {
   "cell_type": "code",
   "execution_count": null,
   "id": "670af4ae",
   "metadata": {},
   "outputs": [],
   "source": []
  }
 ],
 "metadata": {
  "kernelspec": {
   "display_name": "Python 3 (ipykernel)",
   "language": "python",
   "name": "python3"
  },
  "language_info": {
   "codemirror_mode": {
    "name": "ipython",
    "version": 3
   },
   "file_extension": ".py",
   "mimetype": "text/x-python",
   "name": "python",
   "nbconvert_exporter": "python",
   "pygments_lexer": "ipython3",
   "version": "3.9.13"
  }
 },
 "nbformat": 4,
 "nbformat_minor": 5
}
