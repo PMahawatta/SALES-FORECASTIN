{
 "cells": [
  {
   "cell_type": "code",
   "execution_count": 1,
   "id": "4ee3f5ed",
   "metadata": {},
   "outputs": [
    {
     "name": "stdout",
     "output_type": "stream",
     "text": [
      "Updated Transactions Information Data:\n",
      "   item_code invoice_num              invoice_time  item_qty invoice_date  \\\n",
      "0    1080988     4989509 2022-03-11 09:37:02+00:00       1.0   2022-03-11   \n",
      "1     505825     4989509 2022-03-11 09:36:54+00:00       1.0   2022-03-11   \n",
      "2     505825     2124807 2022-03-11 09:11:50+00:00       1.0   2022-03-11   \n",
      "3        898     2124807 2022-03-11 09:11:53+00:00       1.0   2022-03-11   \n",
      "4     129022     2125158 2022-03-11 22:36:00+00:00       1.0   2022-03-11   \n",
      "\n",
      "  day_of_week  month  hour  minute  \n",
      "0      Friday      3     9      37  \n",
      "1      Friday      3     9      36  \n",
      "2      Friday      3     9      11  \n",
      "3      Friday      3     9      11  \n",
      "4      Friday      3    22      36  \n"
     ]
    }
   ],
   "source": [
    "import pandas as pd\n",
    "\n",
    "# Define the file path\n",
    "transactions_info_path = r'..\\dataset\\transactions_info.csv'\n",
    "\n",
    "# Load the data\n",
    "transactions_info_df = pd.read_csv(transactions_info_path)\n",
    "\n",
    "# Feature Engineering\n",
    "\n",
    "# Convert 'invoice_time' to a datetime object\n",
    "transactions_info_df['invoice_time'] = pd.to_datetime(transactions_info_df['invoice_time'])\n",
    "\n",
    "# Extract date-related features\n",
    "transactions_info_df['invoice_date'] = transactions_info_df['invoice_time'].dt.date\n",
    "transactions_info_df['day_of_week'] = transactions_info_df['invoice_time'].dt.day_name()\n",
    "transactions_info_df['month'] = transactions_info_df['invoice_time'].dt.month\n",
    "\n",
    "# Extract time-related features\n",
    "transactions_info_df['hour'] = transactions_info_df['invoice_time'].dt.hour\n",
    "transactions_info_df['minute'] = transactions_info_df['invoice_time'].dt.minute\n",
    "\n",
    "# Display the updated DataFrame with new features\n",
    "print(\"Updated Transactions Information Data:\")\n",
    "print(transactions_info_df.head())\n"
   ]
  },
  {
   "cell_type": "code",
   "execution_count": null,
   "id": "02d2db40",
   "metadata": {},
   "outputs": [],
   "source": []
  }
 ],
 "metadata": {
  "kernelspec": {
   "display_name": "Python 3 (ipykernel)",
   "language": "python",
   "name": "python3"
  },
  "language_info": {
   "codemirror_mode": {
    "name": "ipython",
    "version": 3
   },
   "file_extension": ".py",
   "mimetype": "text/x-python",
   "name": "python",
   "nbconvert_exporter": "python",
   "pygments_lexer": "ipython3",
   "version": "3.9.13"
  }
 },
 "nbformat": 4,
 "nbformat_minor": 5
}
